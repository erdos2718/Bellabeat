{
 "cells": [
  {
   "cell_type": "code",
   "execution_count": 1,
   "id": "2ca7d654",
   "metadata": {
    "_cell_guid": "b1076dfc-b9ad-4769-8c92-a6c4dae69d19",
    "_uuid": "8f2839f25d086af736a60e9eeb907d3b93b6e0e5",
    "execution": {
     "iopub.execute_input": "2024-01-21T18:31:57.340603Z",
     "iopub.status.busy": "2024-01-21T18:31:57.340168Z",
     "iopub.status.idle": "2024-01-21T18:31:59.027980Z",
     "shell.execute_reply": "2024-01-21T18:31:59.025921Z"
    },
    "papermill": {
     "duration": 1.704158,
     "end_time": "2024-01-21T18:31:59.030638",
     "exception": false,
     "start_time": "2024-01-21T18:31:57.326480",
     "status": "completed"
    },
    "tags": []
   },
   "outputs": [
    {
     "name": "stderr",
     "output_type": "stream",
     "text": [
      "/opt/conda/lib/python3.10/site-packages/scipy/__init__.py:146: UserWarning: A NumPy version >=1.16.5 and <1.23.0 is required for this version of SciPy (detected version 1.23.5\n",
      "  warnings.warn(f\"A NumPy version >={np_minversion} and <{np_maxversion}\"\n"
     ]
    },
    {
     "name": "stdout",
     "output_type": "stream",
     "text": [
      "/kaggle/input/fitbit/Fitabase Data 4.12.16-5.12.16/minuteCaloriesNarrow_merged.csv\n",
      "/kaggle/input/fitbit/Fitabase Data 4.12.16-5.12.16/weightLogInfo_merged.csv\n",
      "/kaggle/input/fitbit/Fitabase Data 4.12.16-5.12.16/sleepDay_merged.csv\n",
      "/kaggle/input/fitbit/Fitabase Data 4.12.16-5.12.16/dailyIntensities_merged.csv\n",
      "/kaggle/input/fitbit/Fitabase Data 4.12.16-5.12.16/minuteIntensitiesWide_merged.csv\n",
      "/kaggle/input/fitbit/Fitabase Data 4.12.16-5.12.16/minuteMETsNarrow_merged.csv\n",
      "/kaggle/input/fitbit/Fitabase Data 4.12.16-5.12.16/dailyCalories_merged.csv\n",
      "/kaggle/input/fitbit/Fitabase Data 4.12.16-5.12.16/hourlyCalories_merged.csv\n",
      "/kaggle/input/fitbit/Fitabase Data 4.12.16-5.12.16/heartrate_seconds_merged.csv\n",
      "/kaggle/input/fitbit/Fitabase Data 4.12.16-5.12.16/minuteSleep_merged.csv\n",
      "/kaggle/input/fitbit/Fitabase Data 4.12.16-5.12.16/hourlyIntensities_merged.csv\n",
      "/kaggle/input/fitbit/Fitabase Data 4.12.16-5.12.16/hourlySteps_merged.csv\n",
      "/kaggle/input/fitbit/Fitabase Data 4.12.16-5.12.16/minuteStepsNarrow_merged.csv\n",
      "/kaggle/input/fitbit/Fitabase Data 4.12.16-5.12.16/dailySteps_merged.csv\n",
      "/kaggle/input/fitbit/Fitabase Data 4.12.16-5.12.16/minuteStepsWide_merged.csv\n",
      "/kaggle/input/fitbit/Fitabase Data 4.12.16-5.12.16/minuteIntensitiesNarrow_merged.csv\n",
      "/kaggle/input/fitbit/Fitabase Data 4.12.16-5.12.16/minuteCaloriesWide_merged.csv\n",
      "/kaggle/input/fitbit/Fitabase Data 4.12.16-5.12.16/dailyActivity_merged.csv\n"
     ]
    }
   ],
   "source": [
    "# This Python 3 environment comes with many helpful analytics libraries installed\n",
    "# It is defined by the kaggle/python Docker image: https://github.com/kaggle/docker-python\n",
    "# For example, here's several helpful packages to load\n",
    "\n",
    "import numpy as np # linear algebra\n",
    "import pandas as pd # data processing, CSV file I/O (e.g. pd.read_csv)\n",
    "import seaborn as sns\n",
    "import matplotlib.pyplot as plt\n",
    "# Input data files are available in the read-only \"../input/\" directory\n",
    "# For example, running this (by clicking run or pressing Shift+Enter) will list all files under the input directory\n",
    "\n",
    "import os\n",
    "for dirname, _, filenames in os.walk('/kaggle/input'):\n",
    "    for filename in filenames:\n",
    "        print(os.path.join(dirname, filename))\n",
    "\n",
    "# You can write up to 20GB to the current directory (/kaggle/working/) that gets preserved as output when you create a version using \"Save & Run All\" \n",
    "# You can also write temporary files to /kaggle/temp/, but they won't be saved outside of the current session"
   ]
  },
  {
   "cell_type": "markdown",
   "id": "8694b2d9",
   "metadata": {
    "papermill": {
     "duration": 0.010946,
     "end_time": "2024-01-21T18:31:59.053091",
     "exception": false,
     "start_time": "2024-01-21T18:31:59.042145",
     "status": "completed"
    },
    "tags": []
   },
   "source": [
    "# Bellabeat Case Study"
   ]
  },
  {
   "cell_type": "markdown",
   "id": "e0dc471b",
   "metadata": {
    "papermill": {
     "duration": 0.010966,
     "end_time": "2024-01-21T18:31:59.075430",
     "exception": false,
     "start_time": "2024-01-21T18:31:59.064464",
     "status": "completed"
    },
    "tags": []
   },
   "source": [
    "# Step 1: ASK\n",
    "\n",
    "**Business Task** \n",
    "\n",
    "The purpose of this project is to use data collected from smart devices to discover the latest trends in smart device usage. Bellabeat's stakeholders are very interested in how these trends may apply to its own customer base. This report will derive insights that can be used to inform Bellabeat's marketing strategy going forward.\n",
    "\n",
    "Stakeholders: Urška Sršen, Sando Mur and the Bellabeat marketing analytics team"
   ]
  },
  {
   "cell_type": "markdown",
   "id": "e57dd532",
   "metadata": {
    "papermill": {
     "duration": 0.011546,
     "end_time": "2024-01-21T18:31:59.098405",
     "exception": false,
     "start_time": "2024-01-21T18:31:59.086859",
     "status": "completed"
    },
    "tags": []
   },
   "source": [
    "# Step 2: Prepare\n",
    "\n"
   ]
  },
  {
   "cell_type": "markdown",
   "id": "60583e3b",
   "metadata": {
    "papermill": {
     "duration": 0.01114,
     "end_time": "2024-01-21T18:31:59.122250",
     "exception": false,
     "start_time": "2024-01-21T18:31:59.111110",
     "status": "completed"
    },
    "tags": []
   },
   "source": [
    "**Data Sources**\n",
    "The main data source being used in this project is the *FitBit Fitness Tracker Data* public dataset made available through Mobius. The data contains information on physical activity, heart rate and sleep from thirty FitBit users. The data was sourced ethically as the users as the users consented to submit their data for analytics purposes. The dataset is organized in wide format in a csv file. The data appears to accurate overall. One caveat as far as realiability is concerned is the relatively small sample size of 33. Additionally, some patricipants only have entries for as little as four days. These data points will be removed so as to avoid skewness. The dataset is fairly comprehensive. It contains minute by minute data about calories, steps, sleep etc. It should be enough to provide insights into how users utilize the product. The data is from 2016 which is fairly recent but it may be expedient to include more data from the last year or so. The data is provided by Mobius so one may check the citations in order to confirm the soundness of the dataset."
   ]
  },
  {
   "cell_type": "markdown",
   "id": "4087537d",
   "metadata": {
    "papermill": {
     "duration": 0.011014,
     "end_time": "2024-01-21T18:31:59.145389",
     "exception": false,
     "start_time": "2024-01-21T18:31:59.134375",
     "status": "completed"
    },
    "tags": []
   },
   "source": [
    "# Step 3: Process"
   ]
  },
  {
   "cell_type": "markdown",
   "id": "c7cfa35d",
   "metadata": {
    "papermill": {
     "duration": 0.010889,
     "end_time": "2024-01-21T18:31:59.167543",
     "exception": false,
     "start_time": "2024-01-21T18:31:59.156654",
     "status": "completed"
    },
    "tags": []
   },
   "source": [
    "For this case study I'll be using Python Pandas with kaggle notebooks. Python Pandas is a great tool for this job because it contains a plethora of resources for cleaning and visualizing data all in one place. Python also has fantastic statistical analysis packages such as seaborn. Combining Python's resources with kaggle notebooks allows for reporting, analysis and visualiztion to occur in the same place which makes for an easier document. Below is the code to read in the data and get started."
   ]
  },
  {
   "cell_type": "code",
   "execution_count": 2,
   "id": "33152fa5",
   "metadata": {
    "execution": {
     "iopub.execute_input": "2024-01-21T18:31:59.193172Z",
     "iopub.status.busy": "2024-01-21T18:31:59.192380Z",
     "iopub.status.idle": "2024-01-21T18:32:03.101120Z",
     "shell.execute_reply": "2024-01-21T18:32:03.099789Z"
    },
    "papermill": {
     "duration": 3.924845,
     "end_time": "2024-01-21T18:32:03.104236",
     "exception": false,
     "start_time": "2024-01-21T18:31:59.179391",
     "status": "completed"
    },
    "tags": []
   },
   "outputs": [],
   "source": [
    "df = pd.read_csv(\"/kaggle/input/fitbit/Fitabase Data 4.12.16-5.12.16/dailyActivity_merged.csv\")\n",
    "df_sleep = pd.read_csv(\"/kaggle/input/fitbit/Fitabase Data 4.12.16-5.12.16/sleepDay_merged.csv\")\n",
    "df_hr = pd.read_csv(\"/kaggle/input/fitbit/Fitabase Data 4.12.16-5.12.16/heartrate_seconds_merged.csv\")"
   ]
  },
  {
   "cell_type": "code",
   "execution_count": 3,
   "id": "06542b83",
   "metadata": {
    "execution": {
     "iopub.execute_input": "2024-01-21T18:32:03.129906Z",
     "iopub.status.busy": "2024-01-21T18:32:03.129393Z",
     "iopub.status.idle": "2024-01-21T18:32:03.156474Z",
     "shell.execute_reply": "2024-01-21T18:32:03.154684Z"
    },
    "papermill": {
     "duration": 0.043661,
     "end_time": "2024-01-21T18:32:03.159576",
     "exception": false,
     "start_time": "2024-01-21T18:32:03.115915",
     "status": "completed"
    },
    "tags": []
   },
   "outputs": [
    {
     "data": {
      "text/html": [
       "<div>\n",
       "<style scoped>\n",
       "    .dataframe tbody tr th:only-of-type {\n",
       "        vertical-align: middle;\n",
       "    }\n",
       "\n",
       "    .dataframe tbody tr th {\n",
       "        vertical-align: top;\n",
       "    }\n",
       "\n",
       "    .dataframe thead th {\n",
       "        text-align: right;\n",
       "    }\n",
       "</style>\n",
       "<table border=\"1\" class=\"dataframe\">\n",
       "  <thead>\n",
       "    <tr style=\"text-align: right;\">\n",
       "      <th></th>\n",
       "      <th>Id</th>\n",
       "      <th>Time</th>\n",
       "      <th>Value</th>\n",
       "    </tr>\n",
       "  </thead>\n",
       "  <tbody>\n",
       "    <tr>\n",
       "      <th>0</th>\n",
       "      <td>2022484408</td>\n",
       "      <td>4/12/2016 7:21:00 AM</td>\n",
       "      <td>97</td>\n",
       "    </tr>\n",
       "    <tr>\n",
       "      <th>1</th>\n",
       "      <td>2022484408</td>\n",
       "      <td>4/12/2016 7:21:05 AM</td>\n",
       "      <td>102</td>\n",
       "    </tr>\n",
       "    <tr>\n",
       "      <th>2</th>\n",
       "      <td>2022484408</td>\n",
       "      <td>4/12/2016 7:21:10 AM</td>\n",
       "      <td>105</td>\n",
       "    </tr>\n",
       "    <tr>\n",
       "      <th>3</th>\n",
       "      <td>2022484408</td>\n",
       "      <td>4/12/2016 7:21:20 AM</td>\n",
       "      <td>103</td>\n",
       "    </tr>\n",
       "    <tr>\n",
       "      <th>4</th>\n",
       "      <td>2022484408</td>\n",
       "      <td>4/12/2016 7:21:25 AM</td>\n",
       "      <td>101</td>\n",
       "    </tr>\n",
       "  </tbody>\n",
       "</table>\n",
       "</div>"
      ],
      "text/plain": [
       "           Id                  Time  Value\n",
       "0  2022484408  4/12/2016 7:21:00 AM     97\n",
       "1  2022484408  4/12/2016 7:21:05 AM    102\n",
       "2  2022484408  4/12/2016 7:21:10 AM    105\n",
       "3  2022484408  4/12/2016 7:21:20 AM    103\n",
       "4  2022484408  4/12/2016 7:21:25 AM    101"
      ]
     },
     "execution_count": 3,
     "metadata": {},
     "output_type": "execute_result"
    }
   ],
   "source": [
    "df_hr.head()"
   ]
  },
  {
   "cell_type": "markdown",
   "id": "bac3f099",
   "metadata": {
    "papermill": {
     "duration": 0.012054,
     "end_time": "2024-01-21T18:32:03.184661",
     "exception": false,
     "start_time": "2024-01-21T18:32:03.172607",
     "status": "completed"
    },
    "tags": []
   },
   "source": [
    "## **Inspecting the data for errors**"
   ]
  },
  {
   "cell_type": "markdown",
   "id": "34866b62",
   "metadata": {
    "papermill": {
     "duration": 0.011969,
     "end_time": "2024-01-21T18:32:03.210331",
     "exception": false,
     "start_time": "2024-01-21T18:32:03.198362",
     "status": "completed"
    },
    "tags": []
   },
   "source": [
    "First we'd like to check the data for duplicates which would skew our analysis."
   ]
  },
  {
   "cell_type": "code",
   "execution_count": 4,
   "id": "b0ddd49d",
   "metadata": {
    "execution": {
     "iopub.execute_input": "2024-01-21T18:32:03.238635Z",
     "iopub.status.busy": "2024-01-21T18:32:03.238172Z",
     "iopub.status.idle": "2024-01-21T18:32:03.257362Z",
     "shell.execute_reply": "2024-01-21T18:32:03.256231Z"
    },
    "papermill": {
     "duration": 0.036537,
     "end_time": "2024-01-21T18:32:03.260235",
     "exception": false,
     "start_time": "2024-01-21T18:32:03.223698",
     "status": "completed"
    },
    "tags": []
   },
   "outputs": [],
   "source": [
    "duplicates = df.duplicated()\n",
    "for d in duplicates:\n",
    "    if d:\n",
    "        print (\"This is a duplicate\")"
   ]
  },
  {
   "cell_type": "markdown",
   "id": "c86f4a30",
   "metadata": {
    "papermill": {
     "duration": 0.011462,
     "end_time": "2024-01-21T18:32:03.283898",
     "exception": false,
     "start_time": "2024-01-21T18:32:03.272436",
     "status": "completed"
    },
    "tags": []
   },
   "source": [
    "As we can there are no duplicates in the dataset so no further action is needed. Next we need to check how often each user used their device. We'll do this by counting the number of distinct dates for each user with the following code:"
   ]
  },
  {
   "cell_type": "code",
   "execution_count": 5,
   "id": "faf17bca",
   "metadata": {
    "execution": {
     "iopub.execute_input": "2024-01-21T18:32:03.309069Z",
     "iopub.status.busy": "2024-01-21T18:32:03.308667Z",
     "iopub.status.idle": "2024-01-21T18:32:03.321451Z",
     "shell.execute_reply": "2024-01-21T18:32:03.320281Z"
    },
    "papermill": {
     "duration": 0.028301,
     "end_time": "2024-01-21T18:32:03.324014",
     "exception": false,
     "start_time": "2024-01-21T18:32:03.295713",
     "status": "completed"
    },
    "tags": []
   },
   "outputs": [
    {
     "data": {
      "text/plain": [
       "Id\n",
       "1503960366    31\n",
       "1624580081    31\n",
       "1644430081    30\n",
       "1844505072    31\n",
       "1927972279    31\n",
       "2022484408    31\n",
       "2026352035    31\n",
       "2320127002    31\n",
       "2347167796    18\n",
       "2873212765    31\n",
       "3372868164    20\n",
       "3977333714    30\n",
       "4020332650    31\n",
       "4057192912     4\n",
       "4319703577    31\n",
       "4388161847    31\n",
       "4445114986    31\n",
       "4558609924    31\n",
       "4702921684    31\n",
       "5553957443    31\n",
       "5577150313    30\n",
       "6117666160    28\n",
       "6290855005    29\n",
       "6775888955    26\n",
       "6962181067    31\n",
       "7007744171    26\n",
       "7086361926    31\n",
       "8053475328    31\n",
       "8253242879    19\n",
       "8378563200    31\n",
       "8583815059    31\n",
       "8792009665    29\n",
       "8877689391    31\n",
       "Name: ActivityDate, dtype: int64"
      ]
     },
     "execution_count": 5,
     "metadata": {},
     "output_type": "execute_result"
    }
   ],
   "source": [
    "df.groupby(by=\"Id\").ActivityDate.nunique()"
   ]
  },
  {
   "cell_type": "code",
   "execution_count": 6,
   "id": "b49f9aaa",
   "metadata": {
    "execution": {
     "iopub.execute_input": "2024-01-21T18:32:03.350539Z",
     "iopub.status.busy": "2024-01-21T18:32:03.350109Z",
     "iopub.status.idle": "2024-01-21T18:32:03.440041Z",
     "shell.execute_reply": "2024-01-21T18:32:03.438716Z"
    },
    "papermill": {
     "duration": 0.106658,
     "end_time": "2024-01-21T18:32:03.442809",
     "exception": false,
     "start_time": "2024-01-21T18:32:03.336151",
     "status": "completed"
    },
    "tags": []
   },
   "outputs": [
    {
     "data": {
      "text/plain": [
       "Id\n",
       "1503960366    31\n",
       "1624580081    31\n",
       "1644430081    30\n",
       "1844505072    31\n",
       "1927972279    31\n",
       "2022484408    31\n",
       "2026352035    31\n",
       "2320127002    31\n",
       "2347167796    18\n",
       "2873212765    31\n",
       "3372868164    20\n",
       "3977333714    30\n",
       "4020332650    31\n",
       "4319703577    31\n",
       "4388161847    31\n",
       "4445114986    31\n",
       "4558609924    31\n",
       "4702921684    31\n",
       "5553957443    31\n",
       "5577150313    30\n",
       "6117666160    28\n",
       "6290855005    29\n",
       "6775888955    26\n",
       "6962181067    31\n",
       "7007744171    26\n",
       "7086361926    31\n",
       "8053475328    31\n",
       "8253242879    19\n",
       "8378563200    31\n",
       "8583815059    31\n",
       "8792009665    29\n",
       "8877689391    31\n",
       "Name: ActivityDate, dtype: int64"
      ]
     },
     "execution_count": 6,
     "metadata": {},
     "output_type": "execute_result"
    }
   ],
   "source": [
    "filtered_df = df\n",
    "date_count = df.groupby(by=\"Id\").ActivityDate.nunique()\n",
    "for index, row in filtered_df.iterrows():\n",
    "    if date_count[row[\"Id\"]] < 5:\n",
    "        \n",
    "        filtered_df.drop(index,axis=\"index\",inplace = True)\n",
    "        \n",
    "filtered_df.groupby(by=\"Id\").ActivityDate.nunique()\n"
   ]
  },
  {
   "cell_type": "markdown",
   "id": "1271eed3",
   "metadata": {
    "papermill": {
     "duration": 0.011626,
     "end_time": "2024-01-21T18:32:03.466506",
     "exception": false,
     "start_time": "2024-01-21T18:32:03.454880",
     "status": "completed"
    },
    "tags": []
   },
   "source": [
    "Next we want to check our data for null values using the following code."
   ]
  },
  {
   "cell_type": "code",
   "execution_count": 7,
   "id": "c71f1ed6",
   "metadata": {
    "execution": {
     "iopub.execute_input": "2024-01-21T18:32:03.496607Z",
     "iopub.status.busy": "2024-01-21T18:32:03.496131Z",
     "iopub.status.idle": "2024-01-21T18:32:03.596823Z",
     "shell.execute_reply": "2024-01-21T18:32:03.595583Z"
    },
    "papermill": {
     "duration": 0.118409,
     "end_time": "2024-01-21T18:32:03.599756",
     "exception": false,
     "start_time": "2024-01-21T18:32:03.481347",
     "status": "completed"
    },
    "tags": []
   },
   "outputs": [],
   "source": [
    "null_table = filtered_df.isnull()\n",
    "for index,row in null_table.iterrows():\n",
    "    if row.any():\n",
    "        print(\"this is a null value\")"
   ]
  },
  {
   "cell_type": "markdown",
   "id": "61b8e2eb",
   "metadata": {
    "papermill": {
     "duration": 0.012137,
     "end_time": "2024-01-21T18:32:03.623990",
     "exception": false,
     "start_time": "2024-01-21T18:32:03.611853",
     "status": "completed"
    },
    "tags": []
   },
   "source": [
    "# Step 4: Analyze and Visualize"
   ]
  },
  {
   "cell_type": "markdown",
   "id": "7d447828",
   "metadata": {
    "papermill": {
     "duration": 0.012247,
     "end_time": "2024-01-21T18:32:03.649506",
     "exception": false,
     "start_time": "2024-01-21T18:32:03.637259",
     "status": "completed"
    },
    "tags": []
   },
   "source": [
    "Now that our data has been cleaned and formatted correctly we're ready to begin analyzing it for trends. We'll start by doing some exploration and looking at the summary statistics."
   ]
  },
  {
   "cell_type": "markdown",
   "id": "28a1f867",
   "metadata": {
    "papermill": {
     "duration": 0.012604,
     "end_time": "2024-01-21T18:32:03.674752",
     "exception": false,
     "start_time": "2024-01-21T18:32:03.662148",
     "status": "completed"
    },
    "tags": []
   },
   "source": [
    "**Overview**"
   ]
  },
  {
   "cell_type": "code",
   "execution_count": 8,
   "id": "de2d72c6",
   "metadata": {
    "execution": {
     "iopub.execute_input": "2024-01-21T18:32:03.701282Z",
     "iopub.status.busy": "2024-01-21T18:32:03.700844Z",
     "iopub.status.idle": "2024-01-21T18:32:03.725761Z",
     "shell.execute_reply": "2024-01-21T18:32:03.724535Z"
    },
    "papermill": {
     "duration": 0.041216,
     "end_time": "2024-01-21T18:32:03.728310",
     "exception": false,
     "start_time": "2024-01-21T18:32:03.687094",
     "status": "completed"
    },
    "tags": []
   },
   "outputs": [
    {
     "data": {
      "text/html": [
       "<div>\n",
       "<style scoped>\n",
       "    .dataframe tbody tr th:only-of-type {\n",
       "        vertical-align: middle;\n",
       "    }\n",
       "\n",
       "    .dataframe tbody tr th {\n",
       "        vertical-align: top;\n",
       "    }\n",
       "\n",
       "    .dataframe thead th {\n",
       "        text-align: right;\n",
       "    }\n",
       "</style>\n",
       "<table border=\"1\" class=\"dataframe\">\n",
       "  <thead>\n",
       "    <tr style=\"text-align: right;\">\n",
       "      <th></th>\n",
       "      <th>Id</th>\n",
       "      <th>ActivityDate</th>\n",
       "      <th>TotalSteps</th>\n",
       "      <th>TotalDistance</th>\n",
       "      <th>TrackerDistance</th>\n",
       "      <th>LoggedActivitiesDistance</th>\n",
       "      <th>VeryActiveDistance</th>\n",
       "      <th>ModeratelyActiveDistance</th>\n",
       "      <th>LightActiveDistance</th>\n",
       "      <th>SedentaryActiveDistance</th>\n",
       "      <th>VeryActiveMinutes</th>\n",
       "      <th>FairlyActiveMinutes</th>\n",
       "      <th>LightlyActiveMinutes</th>\n",
       "      <th>SedentaryMinutes</th>\n",
       "      <th>Calories</th>\n",
       "    </tr>\n",
       "  </thead>\n",
       "  <tbody>\n",
       "    <tr>\n",
       "      <th>0</th>\n",
       "      <td>1503960366</td>\n",
       "      <td>4/12/2016</td>\n",
       "      <td>13162</td>\n",
       "      <td>8.50</td>\n",
       "      <td>8.50</td>\n",
       "      <td>0.0</td>\n",
       "      <td>1.88</td>\n",
       "      <td>0.55</td>\n",
       "      <td>6.06</td>\n",
       "      <td>0.0</td>\n",
       "      <td>25</td>\n",
       "      <td>13</td>\n",
       "      <td>328</td>\n",
       "      <td>728</td>\n",
       "      <td>1985</td>\n",
       "    </tr>\n",
       "    <tr>\n",
       "      <th>1</th>\n",
       "      <td>1503960366</td>\n",
       "      <td>4/13/2016</td>\n",
       "      <td>10735</td>\n",
       "      <td>6.97</td>\n",
       "      <td>6.97</td>\n",
       "      <td>0.0</td>\n",
       "      <td>1.57</td>\n",
       "      <td>0.69</td>\n",
       "      <td>4.71</td>\n",
       "      <td>0.0</td>\n",
       "      <td>21</td>\n",
       "      <td>19</td>\n",
       "      <td>217</td>\n",
       "      <td>776</td>\n",
       "      <td>1797</td>\n",
       "    </tr>\n",
       "    <tr>\n",
       "      <th>2</th>\n",
       "      <td>1503960366</td>\n",
       "      <td>4/14/2016</td>\n",
       "      <td>10460</td>\n",
       "      <td>6.74</td>\n",
       "      <td>6.74</td>\n",
       "      <td>0.0</td>\n",
       "      <td>2.44</td>\n",
       "      <td>0.40</td>\n",
       "      <td>3.91</td>\n",
       "      <td>0.0</td>\n",
       "      <td>30</td>\n",
       "      <td>11</td>\n",
       "      <td>181</td>\n",
       "      <td>1218</td>\n",
       "      <td>1776</td>\n",
       "    </tr>\n",
       "    <tr>\n",
       "      <th>3</th>\n",
       "      <td>1503960366</td>\n",
       "      <td>4/15/2016</td>\n",
       "      <td>9762</td>\n",
       "      <td>6.28</td>\n",
       "      <td>6.28</td>\n",
       "      <td>0.0</td>\n",
       "      <td>2.14</td>\n",
       "      <td>1.26</td>\n",
       "      <td>2.83</td>\n",
       "      <td>0.0</td>\n",
       "      <td>29</td>\n",
       "      <td>34</td>\n",
       "      <td>209</td>\n",
       "      <td>726</td>\n",
       "      <td>1745</td>\n",
       "    </tr>\n",
       "    <tr>\n",
       "      <th>4</th>\n",
       "      <td>1503960366</td>\n",
       "      <td>4/16/2016</td>\n",
       "      <td>12669</td>\n",
       "      <td>8.16</td>\n",
       "      <td>8.16</td>\n",
       "      <td>0.0</td>\n",
       "      <td>2.71</td>\n",
       "      <td>0.41</td>\n",
       "      <td>5.04</td>\n",
       "      <td>0.0</td>\n",
       "      <td>36</td>\n",
       "      <td>10</td>\n",
       "      <td>221</td>\n",
       "      <td>773</td>\n",
       "      <td>1863</td>\n",
       "    </tr>\n",
       "  </tbody>\n",
       "</table>\n",
       "</div>"
      ],
      "text/plain": [
       "           Id ActivityDate  TotalSteps  TotalDistance  TrackerDistance  \\\n",
       "0  1503960366    4/12/2016       13162           8.50             8.50   \n",
       "1  1503960366    4/13/2016       10735           6.97             6.97   \n",
       "2  1503960366    4/14/2016       10460           6.74             6.74   \n",
       "3  1503960366    4/15/2016        9762           6.28             6.28   \n",
       "4  1503960366    4/16/2016       12669           8.16             8.16   \n",
       "\n",
       "   LoggedActivitiesDistance  VeryActiveDistance  ModeratelyActiveDistance  \\\n",
       "0                       0.0                1.88                      0.55   \n",
       "1                       0.0                1.57                      0.69   \n",
       "2                       0.0                2.44                      0.40   \n",
       "3                       0.0                2.14                      1.26   \n",
       "4                       0.0                2.71                      0.41   \n",
       "\n",
       "   LightActiveDistance  SedentaryActiveDistance  VeryActiveMinutes  \\\n",
       "0                 6.06                      0.0                 25   \n",
       "1                 4.71                      0.0                 21   \n",
       "2                 3.91                      0.0                 30   \n",
       "3                 2.83                      0.0                 29   \n",
       "4                 5.04                      0.0                 36   \n",
       "\n",
       "   FairlyActiveMinutes  LightlyActiveMinutes  SedentaryMinutes  Calories  \n",
       "0                   13                   328               728      1985  \n",
       "1                   19                   217               776      1797  \n",
       "2                   11                   181              1218      1776  \n",
       "3                   34                   209               726      1745  \n",
       "4                   10                   221               773      1863  "
      ]
     },
     "execution_count": 8,
     "metadata": {},
     "output_type": "execute_result"
    }
   ],
   "source": [
    "filtered_df.head()"
   ]
  },
  {
   "cell_type": "code",
   "execution_count": 9,
   "id": "fe7b77d6",
   "metadata": {
    "execution": {
     "iopub.execute_input": "2024-01-21T18:32:03.755286Z",
     "iopub.status.busy": "2024-01-21T18:32:03.754396Z",
     "iopub.status.idle": "2024-01-21T18:32:03.821446Z",
     "shell.execute_reply": "2024-01-21T18:32:03.820089Z"
    },
    "papermill": {
     "duration": 0.083383,
     "end_time": "2024-01-21T18:32:03.824151",
     "exception": false,
     "start_time": "2024-01-21T18:32:03.740768",
     "status": "completed"
    },
    "tags": []
   },
   "outputs": [
    {
     "data": {
      "text/html": [
       "<div>\n",
       "<style scoped>\n",
       "    .dataframe tbody tr th:only-of-type {\n",
       "        vertical-align: middle;\n",
       "    }\n",
       "\n",
       "    .dataframe tbody tr th {\n",
       "        vertical-align: top;\n",
       "    }\n",
       "\n",
       "    .dataframe thead th {\n",
       "        text-align: right;\n",
       "    }\n",
       "</style>\n",
       "<table border=\"1\" class=\"dataframe\">\n",
       "  <thead>\n",
       "    <tr style=\"text-align: right;\">\n",
       "      <th></th>\n",
       "      <th>Id</th>\n",
       "      <th>TotalSteps</th>\n",
       "      <th>TotalDistance</th>\n",
       "      <th>TrackerDistance</th>\n",
       "      <th>LoggedActivitiesDistance</th>\n",
       "      <th>VeryActiveDistance</th>\n",
       "      <th>ModeratelyActiveDistance</th>\n",
       "      <th>LightActiveDistance</th>\n",
       "      <th>SedentaryActiveDistance</th>\n",
       "      <th>VeryActiveMinutes</th>\n",
       "      <th>FairlyActiveMinutes</th>\n",
       "      <th>LightlyActiveMinutes</th>\n",
       "      <th>SedentaryMinutes</th>\n",
       "      <th>Calories</th>\n",
       "    </tr>\n",
       "  </thead>\n",
       "  <tbody>\n",
       "    <tr>\n",
       "      <th>count</th>\n",
       "      <td>9.360000e+02</td>\n",
       "      <td>936.000000</td>\n",
       "      <td>936.000000</td>\n",
       "      <td>936.000000</td>\n",
       "      <td>936.000000</td>\n",
       "      <td>936.000000</td>\n",
       "      <td>936.000000</td>\n",
       "      <td>936.000000</td>\n",
       "      <td>936.000000</td>\n",
       "      <td>936.000000</td>\n",
       "      <td>936.000000</td>\n",
       "      <td>936.000000</td>\n",
       "      <td>936.000000</td>\n",
       "      <td>936.000000</td>\n",
       "    </tr>\n",
       "    <tr>\n",
       "      <th>mean</th>\n",
       "      <td>4.858819e+09</td>\n",
       "      <td>7654.149573</td>\n",
       "      <td>5.500929</td>\n",
       "      <td>5.486517</td>\n",
       "      <td>0.108633</td>\n",
       "      <td>1.508878</td>\n",
       "      <td>0.569690</td>\n",
       "      <td>3.343611</td>\n",
       "      <td>0.001613</td>\n",
       "      <td>21.252137</td>\n",
       "      <td>13.616453</td>\n",
       "      <td>193.196581</td>\n",
       "      <td>990.244658</td>\n",
       "      <td>2305.019231</td>\n",
       "    </tr>\n",
       "    <tr>\n",
       "      <th>std</th>\n",
       "      <td>2.429423e+09</td>\n",
       "      <td>5089.649569</td>\n",
       "      <td>3.927566</td>\n",
       "      <td>3.910217</td>\n",
       "      <td>0.621181</td>\n",
       "      <td>2.662920</td>\n",
       "      <td>0.884825</td>\n",
       "      <td>2.041509</td>\n",
       "      <td>0.007361</td>\n",
       "      <td>32.887663</td>\n",
       "      <td>20.013774</td>\n",
       "      <td>109.162303</td>\n",
       "      <td>301.235990</td>\n",
       "      <td>719.044516</td>\n",
       "    </tr>\n",
       "    <tr>\n",
       "      <th>min</th>\n",
       "      <td>1.503960e+09</td>\n",
       "      <td>0.000000</td>\n",
       "      <td>0.000000</td>\n",
       "      <td>0.000000</td>\n",
       "      <td>0.000000</td>\n",
       "      <td>0.000000</td>\n",
       "      <td>0.000000</td>\n",
       "      <td>0.000000</td>\n",
       "      <td>0.000000</td>\n",
       "      <td>0.000000</td>\n",
       "      <td>0.000000</td>\n",
       "      <td>0.000000</td>\n",
       "      <td>0.000000</td>\n",
       "      <td>0.000000</td>\n",
       "    </tr>\n",
       "    <tr>\n",
       "      <th>25%</th>\n",
       "      <td>2.320127e+09</td>\n",
       "      <td>3789.750000</td>\n",
       "      <td>2.620000</td>\n",
       "      <td>2.620000</td>\n",
       "      <td>0.000000</td>\n",
       "      <td>0.000000</td>\n",
       "      <td>0.000000</td>\n",
       "      <td>1.945000</td>\n",
       "      <td>0.000000</td>\n",
       "      <td>0.000000</td>\n",
       "      <td>0.000000</td>\n",
       "      <td>127.000000</td>\n",
       "      <td>729.000000</td>\n",
       "      <td>1829.750000</td>\n",
       "    </tr>\n",
       "    <tr>\n",
       "      <th>50%</th>\n",
       "      <td>4.445115e+09</td>\n",
       "      <td>7441.000000</td>\n",
       "      <td>5.265000</td>\n",
       "      <td>5.265000</td>\n",
       "      <td>0.000000</td>\n",
       "      <td>0.220000</td>\n",
       "      <td>0.240000</td>\n",
       "      <td>3.365000</td>\n",
       "      <td>0.000000</td>\n",
       "      <td>4.000000</td>\n",
       "      <td>7.000000</td>\n",
       "      <td>199.000000</td>\n",
       "      <td>1057.000000</td>\n",
       "      <td>2134.000000</td>\n",
       "    </tr>\n",
       "    <tr>\n",
       "      <th>75%</th>\n",
       "      <td>6.962181e+09</td>\n",
       "      <td>10733.500000</td>\n",
       "      <td>7.720000</td>\n",
       "      <td>7.712500</td>\n",
       "      <td>0.000000</td>\n",
       "      <td>2.090000</td>\n",
       "      <td>0.800000</td>\n",
       "      <td>4.790000</td>\n",
       "      <td>0.000000</td>\n",
       "      <td>32.000000</td>\n",
       "      <td>19.000000</td>\n",
       "      <td>264.250000</td>\n",
       "      <td>1226.750000</td>\n",
       "      <td>2794.500000</td>\n",
       "    </tr>\n",
       "    <tr>\n",
       "      <th>max</th>\n",
       "      <td>8.877689e+09</td>\n",
       "      <td>36019.000000</td>\n",
       "      <td>28.030001</td>\n",
       "      <td>28.030001</td>\n",
       "      <td>4.942142</td>\n",
       "      <td>21.920000</td>\n",
       "      <td>6.480000</td>\n",
       "      <td>10.710000</td>\n",
       "      <td>0.110000</td>\n",
       "      <td>210.000000</td>\n",
       "      <td>143.000000</td>\n",
       "      <td>518.000000</td>\n",
       "      <td>1440.000000</td>\n",
       "      <td>4900.000000</td>\n",
       "    </tr>\n",
       "  </tbody>\n",
       "</table>\n",
       "</div>"
      ],
      "text/plain": [
       "                 Id    TotalSteps  TotalDistance  TrackerDistance  \\\n",
       "count  9.360000e+02    936.000000     936.000000       936.000000   \n",
       "mean   4.858819e+09   7654.149573       5.500929         5.486517   \n",
       "std    2.429423e+09   5089.649569       3.927566         3.910217   \n",
       "min    1.503960e+09      0.000000       0.000000         0.000000   \n",
       "25%    2.320127e+09   3789.750000       2.620000         2.620000   \n",
       "50%    4.445115e+09   7441.000000       5.265000         5.265000   \n",
       "75%    6.962181e+09  10733.500000       7.720000         7.712500   \n",
       "max    8.877689e+09  36019.000000      28.030001        28.030001   \n",
       "\n",
       "       LoggedActivitiesDistance  VeryActiveDistance  ModeratelyActiveDistance  \\\n",
       "count                936.000000          936.000000                936.000000   \n",
       "mean                   0.108633            1.508878                  0.569690   \n",
       "std                    0.621181            2.662920                  0.884825   \n",
       "min                    0.000000            0.000000                  0.000000   \n",
       "25%                    0.000000            0.000000                  0.000000   \n",
       "50%                    0.000000            0.220000                  0.240000   \n",
       "75%                    0.000000            2.090000                  0.800000   \n",
       "max                    4.942142           21.920000                  6.480000   \n",
       "\n",
       "       LightActiveDistance  SedentaryActiveDistance  VeryActiveMinutes  \\\n",
       "count           936.000000               936.000000         936.000000   \n",
       "mean              3.343611                 0.001613          21.252137   \n",
       "std               2.041509                 0.007361          32.887663   \n",
       "min               0.000000                 0.000000           0.000000   \n",
       "25%               1.945000                 0.000000           0.000000   \n",
       "50%               3.365000                 0.000000           4.000000   \n",
       "75%               4.790000                 0.000000          32.000000   \n",
       "max              10.710000                 0.110000         210.000000   \n",
       "\n",
       "       FairlyActiveMinutes  LightlyActiveMinutes  SedentaryMinutes  \\\n",
       "count           936.000000            936.000000        936.000000   \n",
       "mean             13.616453            193.196581        990.244658   \n",
       "std              20.013774            109.162303        301.235990   \n",
       "min               0.000000              0.000000          0.000000   \n",
       "25%               0.000000            127.000000        729.000000   \n",
       "50%               7.000000            199.000000       1057.000000   \n",
       "75%              19.000000            264.250000       1226.750000   \n",
       "max             143.000000            518.000000       1440.000000   \n",
       "\n",
       "          Calories  \n",
       "count   936.000000  \n",
       "mean   2305.019231  \n",
       "std     719.044516  \n",
       "min       0.000000  \n",
       "25%    1829.750000  \n",
       "50%    2134.000000  \n",
       "75%    2794.500000  \n",
       "max    4900.000000  "
      ]
     },
     "execution_count": 9,
     "metadata": {},
     "output_type": "execute_result"
    }
   ],
   "source": [
    "filtered_df.describe()"
   ]
  },
  {
   "cell_type": "code",
   "execution_count": 10,
   "id": "c0acc720",
   "metadata": {
    "execution": {
     "iopub.execute_input": "2024-01-21T18:32:03.852634Z",
     "iopub.status.busy": "2024-01-21T18:32:03.852090Z",
     "iopub.status.idle": "2024-01-21T18:32:03.862028Z",
     "shell.execute_reply": "2024-01-21T18:32:03.860735Z"
    },
    "papermill": {
     "duration": 0.02696,
     "end_time": "2024-01-21T18:32:03.864638",
     "exception": false,
     "start_time": "2024-01-21T18:32:03.837678",
     "status": "completed"
    },
    "tags": []
   },
   "outputs": [
    {
     "data": {
      "text/plain": [
       "Id\n",
       "1503960366    25\n",
       "1644430081     4\n",
       "1844505072     3\n",
       "1927972279     5\n",
       "2026352035    28\n",
       "2320127002     1\n",
       "2347167796    15\n",
       "3977333714    28\n",
       "4020332650     8\n",
       "4319703577    26\n",
       "4388161847    24\n",
       "4445114986    28\n",
       "4558609924     5\n",
       "4702921684    28\n",
       "5553957443    31\n",
       "5577150313    26\n",
       "6117666160    18\n",
       "6775888955     3\n",
       "6962181067    31\n",
       "7007744171     2\n",
       "7086361926    24\n",
       "8053475328     3\n",
       "8378563200    32\n",
       "8792009665    15\n",
       "Name: Id, dtype: int64"
      ]
     },
     "execution_count": 10,
     "metadata": {},
     "output_type": "execute_result"
    }
   ],
   "source": [
    "df_sleep.groupby(\"Id\")[\"Id\"].count()"
   ]
  },
  {
   "cell_type": "markdown",
   "id": "eaacc672",
   "metadata": {
    "papermill": {
     "duration": 0.012656,
     "end_time": "2024-01-21T18:32:03.890389",
     "exception": false,
     "start_time": "2024-01-21T18:32:03.877733",
     "status": "completed"
    },
    "tags": []
   },
   "source": [
    "We can see that the average distance logged is about 5.5 miles and the average steps at nearly 8,000. We see a standard deviation of around 5,000 steps indicating that tracker use varies greatly from person to person. Overall,users come from a variety of fitness backgrounds but on the whole log alot of miles. We also notice that the sleep logs are spotty. Many users were in the single digits for sleep logs indicating usage was mainly motivated by tracking exercise."
   ]
  },
  {
   "cell_type": "markdown",
   "id": "418dc846",
   "metadata": {
    "papermill": {
     "duration": 0.012477,
     "end_time": "2024-01-21T18:32:03.915979",
     "exception": false,
     "start_time": "2024-01-21T18:32:03.903502",
     "status": "completed"
    },
    "tags": []
   },
   "source": [
    "**Trends in Intensity of Workouts**"
   ]
  },
  {
   "cell_type": "markdown",
   "id": "96c0068b",
   "metadata": {
    "papermill": {
     "duration": 0.012525,
     "end_time": "2024-01-21T18:32:03.941409",
     "exception": false,
     "start_time": "2024-01-21T18:32:03.928884",
     "status": "completed"
    },
    "tags": []
   },
   "source": [
    "When we inspect the summary statistics for interesting trends we notice that the quartiles are spread out a bit. A histogram would be a convenient way to visualize this data."
   ]
  },
  {
   "cell_type": "code",
   "execution_count": 11,
   "id": "b1fd64af",
   "metadata": {
    "execution": {
     "iopub.execute_input": "2024-01-21T18:32:03.969661Z",
     "iopub.status.busy": "2024-01-21T18:32:03.969253Z",
     "iopub.status.idle": "2024-01-21T18:32:04.716726Z",
     "shell.execute_reply": "2024-01-21T18:32:04.715476Z"
    },
    "papermill": {
     "duration": 0.765186,
     "end_time": "2024-01-21T18:32:04.719658",
     "exception": false,
     "start_time": "2024-01-21T18:32:03.954472",
     "status": "completed"
    },
    "tags": []
   },
   "outputs": [
    {
     "data": {
      "image/png": "[encoded data removed]",
      "text/plain": [
       "<Figure size 640x480 with 3 Axes>"
      ]
     },
     "metadata": {},
     "output_type": "display_data"
    }
   ],
   "source": [
    "fig, axes = plt.subplots(1,3)\n",
    "filtered_df.hist(\"VeryActiveMinutes\",ax=axes[0])\n",
    "filtered_df.hist(\"FairlyActiveMinutes\",ax=axes[1])\n",
    "filtered_df.hist(\"LightlyActiveMinutes\",ax=axes[2])\n",
    "plt.show()"
   ]
  },
  {
   "cell_type": "markdown",
   "id": "25be9b48",
   "metadata": {
    "papermill": {
     "duration": 0.013891,
     "end_time": "2024-01-21T18:32:04.747422",
     "exception": false,
     "start_time": "2024-01-21T18:32:04.733531",
     "status": "completed"
    },
    "tags": []
   },
   "source": [
    "We can see right away by the postiive skewness that users are tending towards little to no intense exercise. The histogram for light exercise is far more normally distributed. We can look at the active minutes as a whole with a pie chart. Again we see that light exercise and sedentary minutes make up the vast majority of the chart. We see a clear trend toward casual use underscoring the need for a broad marketing strategy."
   ]
  },
  {
   "cell_type": "code",
   "execution_count": 12,
   "id": "1d14a176",
   "metadata": {
    "execution": {
     "iopub.execute_input": "2024-01-21T18:32:04.778330Z",
     "iopub.status.busy": "2024-01-21T18:32:04.777898Z",
     "iopub.status.idle": "2024-01-21T18:32:04.983144Z",
     "shell.execute_reply": "2024-01-21T18:32:04.981495Z"
    },
    "papermill": {
     "duration": 0.225761,
     "end_time": "2024-01-21T18:32:04.987725",
     "exception": false,
     "start_time": "2024-01-21T18:32:04.761964",
     "status": "completed"
    },
    "tags": []
   },
   "outputs": [
    {
     "data": {
      "image/png": "[encoded data removed]",
      "text/plain": [
       "<Figure size 640x480 with 1 Axes>"
      ]
     },
     "metadata": {},
     "output_type": "display_data"
    }
   ],
   "source": [
    "veryActiveMinutes = filtered_df.loc[:,\"VeryActiveMinutes\"].sum()\n",
    "fairlyActiveMinutes = filtered_df.loc[:,\"FairlyActiveMinutes\"].sum()\n",
    "lightlyActiveMinutes = filtered_df.loc[:,\"LightlyActiveMinutes\"].sum()\n",
    "sedentaryMinutes = filtered_df.loc[:,\"SedentaryMinutes\"].sum()\n",
    "\n",
    "slices = [veryActiveMinutes,fairlyActiveMinutes,lightlyActiveMinutes,sedentaryMinutes]\n",
    "labels = [\"Very Active Minutes\",\"Fairly Active Minutes\",\"Lightly Active Minutes\",\"Sedentary Minutes\"]\n",
    "plt.pie(slices,labels=labels)\n",
    "plt.title(\"Activity Breakdown by Intensity\")\n",
    "plt.show()"
   ]
  },
  {
   "cell_type": "markdown",
   "id": "2233d378",
   "metadata": {
    "papermill": {
     "duration": 0.013871,
     "end_time": "2024-01-21T18:32:05.032926",
     "exception": false,
     "start_time": "2024-01-21T18:32:05.019055",
     "status": "completed"
    },
    "tags": []
   },
   "source": [
    "**Examing the Relationship Between Resting Heart Rate and Activity Level**"
   ]
  },
  {
   "cell_type": "markdown",
   "id": "f9c29af2",
   "metadata": {
    "papermill": {
     "duration": 0.013789,
     "end_time": "2024-01-21T18:32:05.061101",
     "exception": false,
     "start_time": "2024-01-21T18:32:05.047312",
     "status": "completed"
    },
    "tags": []
   },
   "source": [
    "Next we would like to look at the relationship between activity level and resting heart rate. We'll use the sum of FairlyActiveMinutes and VeryActiveMinutes as a proxy for activity level and see how this is correlated with minumun heart rate."
   ]
  },
  {
   "cell_type": "code",
   "execution_count": 13,
   "id": "d94d8f8b",
   "metadata": {
    "execution": {
     "iopub.execute_input": "2024-01-21T18:32:05.092767Z",
     "iopub.status.busy": "2024-01-21T18:32:05.092367Z",
     "iopub.status.idle": "2024-01-21T18:32:05.636607Z",
     "shell.execute_reply": "2024-01-21T18:32:05.635423Z"
    },
    "papermill": {
     "duration": 0.564035,
     "end_time": "2024-01-21T18:32:05.639400",
     "exception": false,
     "start_time": "2024-01-21T18:32:05.075365",
     "status": "completed"
    },
    "tags": []
   },
   "outputs": [
    {
     "name": "stderr",
     "output_type": "stream",
     "text": [
      "/tmp/ipykernel_20/643724950.py:2: FutureWarning: Indexing with multiple keys (implicitly converted to a tuple of keys) will be deprecated, use a list instead.\n",
      "  b = filtered_df.groupby(\"Id\",as_index=False)[\"VeryActiveMinutes\",\"FairlyActiveMinutes\"].mean()\n"
     ]
    },
    {
     "data": {
      "image/png": "[encoded data removed]",
      "text/plain": [
       "<Figure size 640x480 with 1 Axes>"
      ]
     },
     "metadata": {},
     "output_type": "display_data"
    }
   ],
   "source": [
    "a = df_hr.groupby(\"Id\",as_index=False)[\"Value\"].min()\n",
    "b = filtered_df.groupby(\"Id\",as_index=False)[\"VeryActiveMinutes\",\"FairlyActiveMinutes\"].mean()\n",
    "b[\"Total\"] = b[\"VeryActiveMinutes\"]+b[\"FairlyActiveMinutes\"]\n",
    "new_df = pd.merge(a,b,how=\"inner\",left_on=\"Id\",right_on=\"Id\")\n",
    "sns.regplot(x=\"Value\",y=\"Total\",data=new_df)\n",
    "plt.title(\"Relationship Between Activity Level and Resting Heart Rate\")\n",
    "plt.show()"
   ]
  },
  {
   "cell_type": "markdown",
   "id": "b12e601d",
   "metadata": {
    "papermill": {
     "duration": 0.014652,
     "end_time": "2024-01-21T18:32:05.670030",
     "exception": false,
     "start_time": "2024-01-21T18:32:05.655378",
     "status": "completed"
    },
    "tags": []
   },
   "source": [
    "As we can see there is an imperfect inverse correlation indicating that activity level tends to lower resting heart rate. Since resting heart rate is a great indicator of health this could be used to advertise the benefits of using the fitness tracker."
   ]
  },
  {
   "cell_type": "markdown",
   "id": "de88d978",
   "metadata": {
    "papermill": {
     "duration": 0.015626,
     "end_time": "2024-01-21T18:32:05.700535",
     "exception": false,
     "start_time": "2024-01-21T18:32:05.684909",
     "status": "completed"
    },
    "tags": []
   },
   "source": [
    "# A look at the calories burned by user"
   ]
  },
  {
   "cell_type": "markdown",
   "id": "0ec4509b",
   "metadata": {
    "papermill": {
     "duration": 0.01463,
     "end_time": "2024-01-21T18:32:05.730694",
     "exception": false,
     "start_time": "2024-01-21T18:32:05.716064",
     "status": "completed"
    },
    "tags": []
   },
   "source": [
    "Let's take a look at how many Calories users are burning on average. This will give us a good idea of how many users are interested in the product for weight loss."
   ]
  },
  {
   "cell_type": "code",
   "execution_count": 14,
   "id": "e5da35b6",
   "metadata": {
    "execution": {
     "iopub.execute_input": "2024-01-21T18:32:05.762107Z",
     "iopub.status.busy": "2024-01-21T18:32:05.761665Z",
     "iopub.status.idle": "2024-01-21T18:32:05.772674Z",
     "shell.execute_reply": "2024-01-21T18:32:05.771479Z"
    },
    "papermill": {
     "duration": 0.030219,
     "end_time": "2024-01-21T18:32:05.775737",
     "exception": false,
     "start_time": "2024-01-21T18:32:05.745518",
     "status": "completed"
    },
    "tags": []
   },
   "outputs": [
    {
     "data": {
      "text/plain": [
       "Id\n",
       "1503960366    1816.419355\n",
       "1624580081    1483.354839\n",
       "1644430081    2811.300000\n",
       "1844505072    1573.483871\n",
       "1927972279    2172.806452\n",
       "2022484408    2509.967742\n",
       "2026352035    1540.645161\n",
       "2320127002    1724.161290\n",
       "2347167796    2043.444444\n",
       "2873212765    1916.967742\n",
       "3372868164    1933.100000\n",
       "3977333714    1513.666667\n",
       "4020332650    2385.806452\n",
       "4319703577    2037.677419\n",
       "4388161847    3093.870968\n",
       "4445114986    2186.193548\n",
       "4558609924    2033.258065\n",
       "4702921684    2965.548387\n",
       "5553957443    1875.677419\n",
       "5577150313    3359.633333\n",
       "6117666160    2261.142857\n",
       "6290855005    2599.620690\n",
       "6775888955    2131.769231\n",
       "6962181067    1982.032258\n",
       "7007744171    2544.000000\n",
       "7086361926    2566.354839\n",
       "8053475328    2945.806452\n",
       "8253242879    1788.000000\n",
       "8378563200    3436.580645\n",
       "8583815059    2732.032258\n",
       "8792009665    1962.310345\n",
       "8877689391    3420.258065\n",
       "Name: Calories, dtype: float64"
      ]
     },
     "execution_count": 14,
     "metadata": {},
     "output_type": "execute_result"
    }
   ],
   "source": [
    "filtered_df.groupby(by=\"Id\")[\"Calories\"].mean()"
   ]
  },
  {
   "cell_type": "code",
   "execution_count": 15,
   "id": "3c9c0b1a",
   "metadata": {
    "execution": {
     "iopub.execute_input": "2024-01-21T18:32:05.807860Z",
     "iopub.status.busy": "2024-01-21T18:32:05.807455Z",
     "iopub.status.idle": "2024-01-21T18:32:06.076970Z",
     "shell.execute_reply": "2024-01-21T18:32:06.075667Z"
    },
    "papermill": {
     "duration": 0.288849,
     "end_time": "2024-01-21T18:32:06.079861",
     "exception": false,
     "start_time": "2024-01-21T18:32:05.791012",
     "status": "completed"
    },
    "tags": []
   },
   "outputs": [
    {
     "data": {
      "image/png": "[encoded data removed]",
      "text/plain": [
       "<Figure size 640x480 with 1 Axes>"
      ]
     },
     "metadata": {},
     "output_type": "display_data"
    }
   ],
   "source": [
    "calories = filtered_df.groupby(by=\"Id\")[\"Calories\"].mean()\n",
    "plt.boxplot(calories)\n",
    "plt.title(\"Distribution of Mean Calories Burned\")\n",
    "plt.show()\n"
   ]
  },
  {
   "cell_type": "code",
   "execution_count": 16,
   "id": "5f8c05d4",
   "metadata": {
    "execution": {
     "iopub.execute_input": "2024-01-21T18:32:06.114160Z",
     "iopub.status.busy": "2024-01-21T18:32:06.113749Z",
     "iopub.status.idle": "2024-01-21T18:32:06.453128Z",
     "shell.execute_reply": "2024-01-21T18:32:06.451684Z"
    },
    "papermill": {
     "duration": 0.359825,
     "end_time": "2024-01-21T18:32:06.456000",
     "exception": false,
     "start_time": "2024-01-21T18:32:06.096175",
     "status": "completed"
    },
    "tags": []
   },
   "outputs": [
    {
     "data": {
      "image/png": "[encoded data removed]",
      "text/plain": [
       "<Figure size 640x480 with 1 Axes>"
      ]
     },
     "metadata": {},
     "output_type": "display_data"
    }
   ],
   "source": [
    "gk = df.groupby(by=\"Id\")[\"Calories\"].sum()\n",
    "gk\n",
    "\n",
    "plt.hist(gk)\n",
    "plt.title(\"Distribution of Total Calories Burned\")\n",
    "plt.show()"
   ]
  },
  {
   "cell_type": "markdown",
   "id": "bcab52f5",
   "metadata": {
    "papermill": {
     "duration": 0.01647,
     "end_time": "2024-01-21T18:32:06.489188",
     "exception": false,
     "start_time": "2024-01-21T18:32:06.472718",
     "status": "completed"
    },
    "tags": []
   },
   "source": [
    "So once again there is a high degree of variability in the calorie data. This bolsters the idea that BellaBeat clientele are highly varied."
   ]
  },
  {
   "cell_type": "markdown",
   "id": "4e7cfde0",
   "metadata": {
    "papermill": {
     "duration": 0.015533,
     "end_time": "2024-01-21T18:32:06.521332",
     "exception": false,
     "start_time": "2024-01-21T18:32:06.505799",
     "status": "completed"
    },
    "tags": []
   },
   "source": [
    "# Conclusions"
   ]
  },
  {
   "cell_type": "markdown",
   "id": "913f47c3",
   "metadata": {
    "papermill": {
     "duration": 0.015775,
     "end_time": "2024-01-21T18:32:06.553691",
     "exception": false,
     "start_time": "2024-01-21T18:32:06.537916",
     "status": "completed"
    },
    "tags": []
   },
   "source": [
    "Now that we've sifted through the data and visualized the trends it's time to layout the actionable insights we can derive. The first thing that really stands out about the data is the diverse nature of customer use. Whether we looked at calories burned, activty level or the counts for sleep data we saw high standard deviations and spread out data. This should indicate to the BellaBeat Marketing Team that a very general strategy is in order. Rather than targeting a specfic group such as hardcore users the Marketing Team should advertise that the fitness tracker is great for all types of users from casual to very active.\n",
    "\n",
    "Secondly, in light of the strong correaltion between product use and health outcome, this analysis reccomends providing personalized feedback on the progress of users stats such as resting heart rate. This will encourage users to be more active. This will get customers hooked on fitness and health thereby helping secure lifelong loyalty to the product.\n",
    "\n",
    "Lastly, we see that many users are using the product for information on calories burned. A great way to expand the customer base would be to specifically mention the weight loss benefits of using the product. The tracker could provide up to the minute information on calories burned and the corresponding pounds lost. This will give the customers a litte reward and encouragment for their efforts which will keep them coming back!"
   ]
  }
 ],
 "metadata": {
  "kaggle": {
   "accelerator": "none",
   "dataSources": [
    {
     "datasetId": 1041311,
     "sourceId": 1752235,
     "sourceType": "datasetVersion"
    }
   ],
   "dockerImageVersionId": 30527,
   "isGpuEnabled": false,
   "isInternetEnabled": false,
   "language": "python",
   "sourceType": "notebook"
  },
  "kernelspec": {
   "display_name": "Python 3",
   "language": "python",
   "name": "python3"
  },
  "language_info": {
   "codemirror_mode": {
    "name": "ipython",
    "version": 3
   },
   "file_extension": ".py",
   "mimetype": "text/x-python",
   "name": "python",
   "nbconvert_exporter": "python",
   "pygments_lexer": "ipython3",
   "version": "3.10.12"
  },
  "papermill": {
   "default_parameters": {},
   "duration": 24.696552,
   "end_time": "2024-01-21T18:32:07.693772",
   "environment_variables": {},
   "exception": null,
   "input_path": "__notebook__.ipynb",
   "output_path": "__notebook__.ipynb",
   "parameters": {},
   "start_time": "2024-01-21T18:31:42.997220",
   "version": "2.4.0"
  }
 },
 "nbformat": 4,
 "nbformat_minor": 5
}
